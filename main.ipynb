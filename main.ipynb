{
 "cells": [
  {
   "cell_type": "markdown",
   "metadata": {},
   "source": [
    "# <div style=\"text-align:center\"> <span style=\"color:#03C3F7\">-CLUB DE HOCKEY-</span></div>\n",
    "## <div style=\"text-align:center\"> <span style=\"color:#03C3F7\">-Estadisticas-</span></div>"
   ]
  },
  {
   "cell_type": "code",
   "execution_count": null,
   "metadata": {},
   "outputs": [],
   "source": [
    "from modulo.funciones import generar_estadisticas_jugadorxs,buscar_goleadxr,mas_influyente,promedio_goles_equipo,promedio_goles_goleador\n",
    "\n",
    "names = \"\"\"Agustin, Yanina, Andrés, Ariadna, Bautista, CAROLINA, CESAR, David, Diego, Dolores, DYLAN, ELIANA, Emanuel, Fabián, Noelia, Francsica, FEDERICO, Fernanda, GONZALO, Nancy \"\"\"\n",
    "names=names.split(\", \")\n",
    "goals = [0, 10, 4, 0, 5, 14, 0, 0, 7, 2, 1, 1, 1, 5, 6, 1, 1, 2, 0, 11]\n",
    "goals_avoided = [0, 2, 0, 0, 5, 2, 0, 0, 1, 2, 0, 5, 5, 0, 1, 0, 2, 3, 0, 0]\n",
    "assists = [0, 5, 1, 0, 5, 2, 0, 0, 1, 2, 1, 5, 5, 0, 1, 0, 2, 3, 1, 0]\n",
    "\n",
    "#Generar una estructura de datos con las estadisticas dadas anteriormente\n",
    "estadisticas_jugadores=generar_estadisticas_jugadorxs(names,goals,goals_avoided,assists)\n",
    "\n",
    "#Encontrar al goleador y la cantidad de goles\n",
    "nombre_goleador,goles_goleador=buscar_goleadxr(estadisticas_jugadores)\n",
    "print(\"El goleador de la temporada fue: \",nombre_goleador,\" con \",goles_goleador,\" tantos.\")\n",
    "\n",
    "#Encontrar el jugador mas influyente\n",
    "jugador_mas_influyente=mas_influyente(estadisticas_jugadores)\n",
    "print(\"El jugador mas influyente de la temporada fue:\",jugador_mas_influyente)\n",
    "\n",
    "#Calcular el promedio de goles por partido\n",
    "print(\"El promedio de goles por partido del equipo es :\",promedio_goles_equipo(estadisticas_jugadores))\n",
    "\n",
    "#Calcular el promedio de goles por partido del goleador\n",
    "print(\"El promedio de goles por partido del goleador o goleadora es:\",promedio_goles_goleador(goles_goleador))"
   ]
  }
 ],
 "metadata": {
  "kernelspec": {
   "display_name": "Python 3",
   "language": "python",
   "name": "python3"
  },
  "language_info": {
   "codemirror_mode": {
    "name": "ipython",
    "version": 3
   },
   "file_extension": ".py",
   "mimetype": "text/x-python",
   "name": "python",
   "nbconvert_exporter": "python",
   "pygments_lexer": "ipython3",
   "version": "3.11.2"
  }
 },
 "nbformat": 4,
 "nbformat_minor": 2
}
